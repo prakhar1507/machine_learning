{
 "cells": [
  {
   "cell_type": "code",
   "execution_count": 1,
   "id": "5d105936",
   "metadata": {},
   "outputs": [],
   "source": [
    "from sklearn import metrics"
   ]
  },
  {
   "cell_type": "code",
   "execution_count": 2,
   "id": "12640e47",
   "metadata": {},
   "outputs": [],
   "source": [
    "c=\"cat\"\n",
    "d=\"dog\"\n",
    "f=\"fox\""
   ]
  },
  {
   "cell_type": "markdown",
   "id": "298b07f9",
   "metadata": {},
   "source": [
    "the precision for the cat class is the number of correctly predicted cat out of all predicted cat\n",
    "\n",
    "the recall for cat is the number of correctly predicted cat photos out of the number of actual cat"
   ]
  },
  {
   "cell_type": "code",
   "execution_count": 3,
   "id": "86403267",
   "metadata": {},
   "outputs": [
    {
     "name": "stdout",
     "output_type": "stream",
     "text": [
      "[[5 1 0]\n",
      " [3 6 0]\n",
      " [6 2 2]]\n"
     ]
    }
   ],
   "source": [
    "#true values\n",
    "y_true=[c,c,c,c,c,c,f,f,f,f,f,f,f,f,f,f,d,d,d,d,d,d,d,d,d]\n",
    "#predicted values\n",
    "y_pred=[c,c,c,c,d,c,c,c,c,c,c,c,d,d,f,f,c,c,c,d,d,d,d,d,d]\n",
    "\n",
    "#print the confusion matrix\n",
    "print(metrics.confusion_matrix(y_true,y_pred))"
   ]
  },
  {
   "cell_type": "code",
   "execution_count": 4,
   "id": "667f8ced",
   "metadata": {},
   "outputs": [
    {
     "name": "stdout",
     "output_type": "stream",
     "text": [
      "              precision    recall  f1-score   support\n",
      "\n",
      "         cat       0.36      0.83      0.50         6\n",
      "         dog       0.67      0.67      0.67         9\n",
      "         fox       1.00      0.20      0.33        10\n",
      "\n",
      "    accuracy                           0.52        25\n",
      "   macro avg       0.67      0.57      0.50        25\n",
      "weighted avg       0.73      0.52      0.49        25\n",
      "\n"
     ]
    }
   ],
   "source": [
    "#print the precision and recall among other metrics\n",
    "print(metrics.classification_report(y_true,y_pred))"
   ]
  },
  {
   "cell_type": "code",
   "execution_count": null,
   "id": "6fb4fccc",
   "metadata": {},
   "outputs": [],
   "source": []
  }
 ],
 "metadata": {
  "kernelspec": {
   "display_name": "Python 3 (ipykernel)",
   "language": "python",
   "name": "python3"
  },
  "language_info": {
   "codemirror_mode": {
    "name": "ipython",
    "version": 3
   },
   "file_extension": ".py",
   "mimetype": "text/x-python",
   "name": "python",
   "nbconvert_exporter": "python",
   "pygments_lexer": "ipython3",
   "version": "3.10.2"
  }
 },
 "nbformat": 4,
 "nbformat_minor": 5
}
